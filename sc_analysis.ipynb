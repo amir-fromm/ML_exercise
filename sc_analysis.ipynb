{
 "cells": [
  {
   "cell_type": "markdown",
   "id": "974b4f87",
   "metadata": {},
   "source": [
    "## Predict infection status of cells based on gene expression"
   ]
  },
  {
   "cell_type": "code",
   "execution_count": 74,
   "id": "d4b7a5f8",
   "metadata": {},
   "outputs": [],
   "source": [
    "#!/bin/python3\n",
    "\n",
    "import pandas as pd\n",
    "import numpy as np\n",
    "from sklearn.model_selection import train_test_split\n",
    "from sklearn.naive_bayes import GaussianNB\n",
    "from sklearn.metrics import accuracy_score\n",
    "\n",
    "\n",
    "def get_args():\n",
    "    parser = {}\n",
    "    parser[\"data_dir\"] = \"Advanced python course/ML\"\n",
    "    parser[\"data_file\"] = 'sc_data.pickle.gz'\n",
    "    return parser\n",
    "\n",
    "\n"
   ]
  },
  {
   "cell_type": "markdown",
   "id": "62fc4d2f",
   "metadata": {},
   "source": [
    "#### Load data. the gene expression is already normalized."
   ]
  },
  {
   "cell_type": "code",
   "execution_count": 29,
   "id": "0f30eac4",
   "metadata": {},
   "outputs": [],
   "source": [
    "\n",
    "args = get_args()\n",
    "df = pd.read_pickle(os.path.join(args[\"data_dir\"], args[\"data_file\"]))\n",
    "df"
   ]
  },
  {
   "cell_type": "code",
   "execution_count": 36,
   "id": "b0fb45b5",
   "metadata": {},
   "outputs": [
    {
     "data": {
      "text/plain": [
       "AAACCTGAGAAGATTC-1    Infected\n",
       "AAACCTGAGACAAAGG-1    Infected\n",
       "AAACCTGAGCCCAACC-1    Infected\n",
       "AAACCTGAGCTAGGCA-1    Infected\n",
       "AAACCTGAGGATGCGT-1    Infected\n",
       "                        ...   \n",
       "TTTGTCACACAAGCCC-1    Infected\n",
       "TTTGTCAGTTCCGTCT-1    Infected\n",
       "TTTGTCATCCGCGTTT-1    Infected\n",
       "TTTGTCATCGACAGCC-1    Infected\n",
       "TTTGTCATCGCAAGCC-1    Infected\n",
       "Name: sample, Length: 15054, dtype: object"
      ]
     },
     "execution_count": 36,
     "metadata": {},
     "output_type": "execute_result"
    }
   ],
   "source": [
    "df.iloc[:,-1]"
   ]
  },
  {
   "cell_type": "markdown",
   "id": "8e92f5a0",
   "metadata": {},
   "source": [
    "#### The last column is the values, infected or control. We change it to 0 or 1."
   ]
  },
  {
   "cell_type": "code",
   "execution_count": 37,
   "id": "e3315d2f",
   "metadata": {},
   "outputs": [],
   "source": [
    "df.iloc[:,-1] = df.iloc[:,-1].apply(lambda x: 1 if x == \"Infected\" else 0)\n"
   ]
  },
  {
   "cell_type": "code",
   "execution_count": 47,
   "id": "6f37a3b5",
   "metadata": {},
   "outputs": [],
   "source": [
    "X = df.iloc[:,:-1]\n",
    "y = df.iloc[:,-1]\n",
    "X = np.array(X)\n",
    "y = np.array(y)"
   ]
  },
  {
   "cell_type": "markdown",
   "id": "7b2b7e3a",
   "metadata": {},
   "source": [
    "#### split the data into training and test"
   ]
  },
  {
   "cell_type": "code",
   "execution_count": 48,
   "id": "fa3d7df1",
   "metadata": {},
   "outputs": [],
   "source": [
    "X_train, X_test, y_train, y_test = train_test_split(X, y,random_state=1234)\n"
   ]
  },
  {
   "cell_type": "code",
   "execution_count": 59,
   "id": "02aaa99b",
   "metadata": {},
   "outputs": [
    {
     "name": "stdout",
     "output_type": "stream",
     "text": [
      "(11290, 12026)\n",
      "(3764, 12026)\n",
      "(11290,)\n",
      "(3764,)\n"
     ]
    }
   ],
   "source": [
    "for x in [X_train, X_test, y_train, y_test]: print (x.shape)"
   ]
  },
  {
   "cell_type": "markdown",
   "id": "45293bf6",
   "metadata": {},
   "source": [
    "#### We will now initialize and train out classifier based on the train set, using Naive Bayes Gaussian model"
   ]
  },
  {
   "cell_type": "code",
   "execution_count": 75,
   "id": "ca03a837",
   "metadata": {},
   "outputs": [],
   "source": [
    "\n",
    "gnb = GaussianNB()\n",
    "model = gnb.fit(X_train, y_train)\n"
   ]
  },
  {
   "cell_type": "markdown",
   "id": "1a0c0cd6",
   "metadata": {},
   "source": [
    "#### We will predict the outcome based on the test set, and predict the accuracy"
   ]
  },
  {
   "cell_type": "code",
   "execution_count": 76,
   "id": "cba56ba1",
   "metadata": {},
   "outputs": [],
   "source": [
    "preds = gnb.predict(X_test)\n",
    "print(\"Accuracy of the model:\", accuracy_score(y_test, preds))"
   ]
  }
 ],
 "metadata": {
  "kernelspec": {
   "display_name": "Python 3.8.12 64-bit ('py38': conda)",
   "language": "python",
   "name": "python3812jvsc74a57bd0729ad15c0d9079842309bfe42fda11c7f50194236bc52c4fc70752b7b174b0d3"
  },
  "language_info": {
   "codemirror_mode": {
    "name": "ipython",
    "version": 3
   },
   "file_extension": ".py",
   "mimetype": "text/x-python",
   "name": "python",
   "nbconvert_exporter": "python",
   "pygments_lexer": "ipython3",
   "version": "3.8.12"
  },
  "varInspector": {
   "cols": {
    "lenName": 16,
    "lenType": 16,
    "lenVar": 40
   },
   "kernels_config": {
    "python": {
     "delete_cmd_postfix": "",
     "delete_cmd_prefix": "del ",
     "library": "var_list.py",
     "varRefreshCmd": "print(var_dic_list())"
    },
    "r": {
     "delete_cmd_postfix": ") ",
     "delete_cmd_prefix": "rm(",
     "library": "var_list.r",
     "varRefreshCmd": "cat(var_dic_list()) "
    }
   },
   "types_to_exclude": [
    "module",
    "function",
    "builtin_function_or_method",
    "instance",
    "_Feature"
   ],
   "window_display": false
  }
 },
 "nbformat": 4,
 "nbformat_minor": 5
}
